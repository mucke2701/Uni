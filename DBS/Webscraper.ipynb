{
  "nbformat": 4,
  "nbformat_minor": 0,
  "metadata": {
    "colab": {
      "name": "Webscraper.ipynb",
      "provenance": []
    },
    "kernelspec": {
      "name": "python3",
      "display_name": "Python 3"
    }
  },
  "cells": [
    {
      "cell_type": "markdown",
      "metadata": {
        "id": "IQXHWmi-Q5-a",
        "colab_type": "text"
      },
      "source": [
        "#Aufgabe 4: Web-Scraper\n",
        "# Web scraping in Python\n",
        "Scraping refers to extracting useful data from web pages which are written in a programming language called HTML. To scrap data from the HTML tree we first have to download the web page to our PC.\n",
        "\n",
        "We will use the following packages to achieve the tasks in this assignement:\n",
        "\n",
        "*   requests\n",
        "*   beautifoulsoup4\n",
        "\n"
      ]
    },
    {
      "cell_type": "code",
      "metadata": {
        "id": "WdGX5a3gQq7_",
        "colab_type": "code",
        "colab": {
          "base_uri": "https://localhost:8080/",
          "height": 119
        },
        "outputId": "ea2c092d-b8ac-47d0-857c-5bdcb1cf7f64"
      },
      "source": [
        "!pip install requests\n",
        "!pip install beautifulsoup4"
      ],
      "execution_count": 4,
      "outputs": [
        {
          "output_type": "stream",
          "text": [
            "Requirement already satisfied: requests in /usr/local/lib/python3.6/dist-packages (2.23.0)\n",
            "Requirement already satisfied: chardet<4,>=3.0.2 in /usr/local/lib/python3.6/dist-packages (from requests) (3.0.4)\n",
            "Requirement already satisfied: urllib3!=1.25.0,!=1.25.1,<1.26,>=1.21.1 in /usr/local/lib/python3.6/dist-packages (from requests) (1.24.3)\n",
            "Requirement already satisfied: idna<3,>=2.5 in /usr/local/lib/python3.6/dist-packages (from requests) (2.9)\n",
            "Requirement already satisfied: certifi>=2017.4.17 in /usr/local/lib/python3.6/dist-packages (from requests) (2020.4.5.1)\n",
            "Requirement already satisfied: beautifulsoup4 in /usr/local/lib/python3.6/dist-packages (4.6.3)\n"
          ],
          "name": "stdout"
        }
      ]
    },
    {
      "cell_type": "markdown",
      "metadata": {
        "id": "0cGUtr0lRrlI",
        "colab_type": "text"
      },
      "source": [
        "# Import the modules"
      ]
    },
    {
      "cell_type": "code",
      "metadata": {
        "id": "VH7NAzSxRmnl",
        "colab_type": "code",
        "colab": {}
      },
      "source": [
        "import numpy as np\n",
        "import pandas as pd\n",
        "import requests\n",
        "import bs4\n",
        "import lxml.etree as xml"
      ],
      "execution_count": 0,
      "outputs": []
    },
    {
      "cell_type": "markdown",
      "metadata": {
        "id": "U6mAHfT-T0Py",
        "colab_type": "text"
      },
      "source": [
        "1. Schreiben Sie einen Web-Scraper in Python für das Scrapen der Webseite ”heise.de”. Verwenden Sie für Ihren ”heise.de”-Scraper das Python Framework ”Beautiful Soup” und das PythonModul ”Requests”. Der ”heise.de”-Scraper soll die Überschriften aller Artikel mit einem Bezug\n",
        "zum Thema ”https” (https://www.heise.de/thema/https) zuerst in einer Datenstruktur speichern.\n",
        "(10 P.)\n",
        "\n",
        "2. Wie lauten die Top-3 Wörter in den Überschriften aller zum Thema ”https” veröffentlichten Artikel\n",
        "auf ”heise.de”? (10 P.)"
      ]
    },
    {
      "cell_type": "code",
      "metadata": {
        "id": "AC6YCFucIOJx",
        "colab_type": "code",
        "colab": {
          "base_uri": "https://localhost:8080/",
          "height": 241
        },
        "outputId": "9b492915-8432-429a-f153-6692ac81df3a"
      },
      "source": [
        "  \n",
        "#!/usr/local/bin/python\n",
        "# -*- coding: utf-8 -*-\n",
        "\n",
        "# imports\n",
        "from bs4 import BeautifulSoup\n",
        "import requests\n",
        "from operator import itemgetter\n",
        "\n",
        "# this function returns a soup page object\n",
        "def getPage(url):\n",
        "    r = requests.get(url)\n",
        "    data = r.text\n",
        "    spobj = BeautifulSoup(data, \"lxml\")\n",
        "    return spobj\n",
        "\n",
        "# scraper website: heise.de\n",
        "def main():\n",
        "\n",
        "    d = {}   # create a dictionary\n",
        "\n",
        "    for page in range(1,6,1):\n",
        "\n",
        "        # all https topic\n",
        "        if(page == 1):\n",
        "          heise_https_url = \"https://www.heise.de/thema/https\"\n",
        "        else:\n",
        "          heise_https_url = \"https://www.heise.de/thema/https/seite-\"+str(page)\n",
        "\n",
        "        # https topics\n",
        "        content = getPage(heise_https_url).findAll(\"span\", {\"class\":\"a-article-teaser__title-text\"})\n",
        "        print(type(content))\n",
        "        # split wordlist into words\n",
        "        for line in content:\n",
        "            linetxt = line.text.encode('utf-8')\n",
        "            wordlist = linetxt.split()\n",
        "\n",
        "            # store all words with appearances in dictionary\n",
        "            for word in wordlist:\n",
        "                if word not in d:\n",
        "                    d[word] = 1\n",
        "                if word in d:\n",
        "                    d[word] = d[word]+1\n",
        "\n",
        "    print(\"\\nDONE !\\n\\nTopic https on heise.de was scraped completely.\\n\")\n",
        "    \n",
        "    # print top 3 words of dictionary\n",
        "    print(sorted(d.items(), key=itemgetter(1), reverse=True))\n",
        "    print(list(map(itemgetter(0), sorted(d.items(), key=itemgetter(1), reverse=True)))[0:3])\n",
        "\n",
        "# main program\n",
        "if __name__ == '__main__':\n",
        "    main()"
      ],
      "execution_count": 4,
      "outputs": [
        {
          "output_type": "stream",
          "text": [
            "<class 'bs4.element.ResultSet'>\n",
            "<class 'bs4.element.ResultSet'>\n",
            "<class 'bs4.element.ResultSet'>\n",
            "<class 'bs4.element.ResultSet'>\n",
            "<class 'bs4.element.ResultSet'>\n",
            "\n",
            "DONE !\n",
            "\n",
            "Topic https on heise.de was scraped completely.\n",
            "\n",
            "[(b'HTTPS', 30), (b'in', 23), (b'und', 19), (b'f\\xc3\\xbcr', 17), (b'von', 17), (b'mit', 16), (b'der', 12), (b'als', 12), (b\"Let's\", 11), (b'auf', 11), (b'Chrome', 10), (b'bei', 10), (b'Firefox', 9), (b'Mozilla', 8), (b'will', 8), (b'alle', 8), (b'Encrypt', 7), (b'aus', 7), (b'im', 7), (b'dem', 7), (b'nicht', 7), (b'40', 7), (b'Ausstieg', 7), (b'ver\\xc3\\xb6ffentlicht', 7), (b'\\xc3\\xbcber', 6), (b'vor', 6), (b'HTTPS:', 6), (b'die', 6), (b'HTTP', 6), (b'Google', 6), (b'Rot-Gr\\xc3\\xbcn', 6), (b'Hamburg', 6), (b'plant', 6), (b'\"Einstieg', 6), (b'den', 6), (b'Microsoft\"', 6), (b'Kompletter', 6), (b'Programmcode', 6), (b'Corona-Warn-App', 6), (b'YouTuber', 6), (b'zeigt', 6), (b'Akten', 6), (b'altem', 6), (b'Krankenhaus', 6), (b'Jahre', 6), (b'Videotext:', 6), (b'Fakten,', 6), (b'nichts', 6), (b'Fakten', 6), (b'um', 6), (b'soll', 6), (b'-', 6), (b'Apple', 5), (b'noch', 5), (b'DNS', 5), (b'unsicher', 5), (b'zu', 5), (b'verschl\\xc3\\xbcsseln', 5), (b'mehr', 5), (b'HTTPS-Verschl\\xc3\\xbcsselung', 5), (b'heise', 5), (b'Encrypt:', 5), (b'Millionen', 4), (b'stellt', 4), (b'das', 4), (b'over', 4), (b'nur', 4), (b'Die', 4), (b'bald', 4), (b'sich', 4), (b'TLS', 4), (b'Web', 4), (b'online', 4), (b'Verschl\\xc3\\xbcsselung', 4), (b'beim', 4), (b'SSL-Verschl\\xc3\\xbcsselung', 4), (b'verschl\\xc3\\xbcsselt', 4), (b'SSL-Zertifikate', 4), (b'Nutzer', 4), (b'ist', 4), (b'Everywhere', 4), (b'Twitter', 4), (b'Angreifer', 3), (b'erzwingt', 3), (b'verschl\\xc3\\xbcsselte', 3), (b'Zertifikate', 3), (b'Zertifikat', 3), (b'So', 3), (b'enttarnen', 3), (b'Sie', 3), (b'Vertrauen', 3), (b'Unsichere', 3), (b'Privatsph\\xc3\\xa4re', 3), (b'neue', 3), (b'markiert', 3), (b'HTTP-Webseiten', 3), (b'Mehr', 3), (b'wird', 3), (b'kennzeichnen', 3), (b'setzt', 3), (b'ein', 3), (b'Webseiten', 3), (b'setzen', 3), (b'HTTPS-Traffic', 3), (b'via', 3), (b'Zertifikate:', 3), (b'Version', 3), (b'warnt', 3), (b'Kritik', 3), (b'an', 3), (b'Symantec', 3), (b'auch', 3), (b'Verschl\\xc3\\xbcsselung:', 3), (b'Heise-Onlinedienste', 3), (b'komplett', 3), (b'Fatale', 3), (b'Prozent', 3), (b'l+f:', 3), (b'k\\xc3\\xbcnftig', 3), (b'Microsoft', 3), (b'Internet', 3), (b'SSL-Zertifikaten', 3), (b'nach', 3), (b'muss', 3), (b'SSL', 3), (b'entschl\\xc3\\xbcsseln', 3), (b'Yahoo', 3), (b'2.0', 3), (b'wir', 3), (b'es', 3), (b'macht', 3), (b'L\\xc3\\xbccke', 3), (b'Webserver', 3), (b'jetzt', 3), (b'\\xc3\\xbcberpr\\xc3\\xbcft', 3), (b'[Update]', 3), (b'Sicherheitspatch:', 2), (b'k\\xc3\\xb6nnten', 2), (b'Firefox-L\\xc3\\xbccke', 2), (b'Speicherbereiche', 2), (b'auslesen', 2), (b'Only:', 2), (b'Verbindungen', 2), (b'hat', 2), (b'vorerst', 2), (b'doch', 2), (b'\"nur\"', 2), (b'1,7', 2), (b'zur\\xc3\\xbcckgezogen', 2), (b'Erfolgsgeschichte:', 2), (b'einmilliardstes', 2), (b'Verk\\xc3\\xbcrzte', 2), (b'Laufzeit', 2), (b'SSL/TLS-Zertifikate:', 2), (b'prescht', 2), (b'offenbar', 2), (b'TLS-Zertifikate:', 2), (b'Tr\\xc3\\xa6fik', 2), (b'2', 2), (b'Container', 2), (b'jenseits', 2), (b'Nur', 2), (b'blockiert', 2), (b'unsichere', 2), (b'Downloads', 2), (b'Gegenspionage', 2), (b'Heimnetz:', 2), (b'Datenschleudern', 2), (b'Raspberry', 2), (b'Pi', 2), (b'Android,', 2), (b'entziehen', 2), (b'Zertifikaten', 2), (b'DarkMatter', 2), (b'Netzwerkmitschnitte', 2), (b'tshark', 2), (b'analysieren', 2), (b'Verbindung:', 2), (b'Viele', 2), (b'iPhone-Apps', 2), (b'schalten', 2), (b'Apples', 2), (b'Sicherheitstechnik', 2), (b'ab', 2), (b'Nutzer:', 2), (b'einen', 2), (b'Resolver', 2), (b'Ein', 2), (b'Problem', 2), (b'gel\\xc3\\xb6st,', 2), (b'mehrere', 2), (b'geschaffen', 2), (b'nachgehakt:', 2), (b'Darauf', 2), (b'sollten', 2), (b'achten', 2), (b'Auswahl', 2), (b'eines', 2), (b'Webhosting-Pakets', 2), (b'Security-Funktionen', 2), (b'Hosting-Anbieter', 2), (b'Vergleich', 2), (b'erkennen', 2), (b'Sie,', 2), (b'welche', 2), (b'Online-Dienste', 2), (b'Ihren', 2), (b'Daten', 2), (b'schludern', 2), (b'Browser-Sicherheit:', 2), (b'Gr\\xc3\\xbcnes', 2), (b'Schloss', 2), (b'hei\\xc3\\x9ft', 2), (b'lange', 2), (b'sicher', 2), (b'Apple-Browser', 2), (b'Safari', 2), (b'Sennheiser-Software', 2), (b'spielt', 2), (b'Angreifern', 2), (b'm\\xc3\\xa4chtige', 2), (b'Werkzeuge', 2), (b'H\\xc3\\xa4nde', 2), (b'Kommentar', 2), (b'Gruft', 2), (b'geh\\xc3\\xb6rt', 2), (b'ausgel\\xc3\\xbcftet', 2), (b'Sicherheitsl\\xc3\\xbccken', 2), (b'69', 2), (b'geschlossen', 2), (b'sperrt', 2), (b'Add-On', 2), (b'\"Web', 2), (b'Security\"', 2), (b'Datenschutz:', 2), (b'DNS-Anfragen', 2), (b'oder', 2), (b'verpacken?', 2), (b'Transportverschl\\xc3\\xbcsselung:', 2), (b'68', 2), (b'mag', 2), (b'\\xc3\\xbcberhaupt', 2), (b'Google:', 2), (b'HTTPS-Seiten', 2), (b'startet', 2), (b'Top-Level-Domain', 2), (b'.app', 2), (b'Bundesregierung', 2), (b'fl\\xc3\\xa4chendeckende', 2), (b'kann', 2), (b'unverschl\\xc3\\xbcsselte', 2), (b'Ganz', 2), (b'gar', 2), (b'sicher:', 2), (b'Immer', 2), (b'Phishing-Webseiten', 2), (b'Transparenzbericht:', 2), (b'nimmt', 2), (b'weltweit', 2), (b'1.3:', 2), (b'Security-Devices', 2), (b'verhindern', 2), (b'Einf\\xc3\\xbchrung', 2), (b'Wildcard-Zertifikate', 2), (b'Aussicht', 2), (b'Sophos', 2), (b'Appliance', 2), (b'aktualisiert', 2), (b'fortan', 2), (b'testet', 2), (b'SSL-Widerrufs-Konzept', 2), (b'OCSP', 2), (b'Bahn', 2), (b'beseitigt', 2), (b'DNS-Fehler:', 2), (b'Paypal', 2), (b'wieder', 2), (b'WIFIonICE', 2), (b'benutzbar', 2), (b'Malware', 2), (b'Apple-Entwicklerzertifikat', 2), (b'spioniert', 2), (b'Android', 2), (b'O', 2), (b'verbietet', 2), (b'Fallback', 2), (b'Pornhub', 2), (b'YouPorn', 2), (b'Neuer', 2), (b'IETF-Standard:', 2), (b'Alten', 2), (b'Webverkehr', 2), (b'wenigstens', 2), (b'US-CERT', 2), (b'HTTPS-Inspektion', 2), (b'Unsicheres', 2), (b'Log-in-Feld:', 2), (b'Webseiten-Betreiber', 2), (b'beschwert', 2), (b'Warnung', 2), (b'Online-Gl\\xc3\\xbccksspiel:', 2), (b'Schweiz', 2), (b'f\\xc3\\xbchrt', 2), (b'trotz', 2), (b'viel', 2), (b'Netzsperren', 2), (b'Sicherheitsforscher', 2), (b'AV-Hersteller:', 2), (b'\"Finger', 2), (b'weg', 2), (b'HTTPS\"', 2), (b'schlampt', 2), (b'erneut', 2), (b'TLS-Zertifikaten', 2), (b'online:', 2), (b'Mobilger\\xc3\\xa4te', 2), (b'HTTPS-Zwang', 2), (b'Apps:', 2), (b'verl\\xc3\\xa4ngert', 2), (b'Deadline', 2), (b'WordPress', 2), (b'2017', 2), (b'HTTPS-Ausbau', 2), (b'vorantreiben', 2), (b'SourceForge', 2), (b'bietet', 2), (b'optional', 2), (b'Projektseiten', 2), (b'stellen', 2), (b'Admins', 2), (b'aufgepasst:', 2), (b'SHA1-Zertifikate', 2), (b'endg\\xc3\\xbcltigen', 2), (b'Aus', 2), (b'Zertifikats-Klau:', 2), (b'Sehschw\\xc3\\xa4che', 2), (b'Comodo', 2), (b'Sicher', 2), (b'surfen', 2), (b'Gratis-WLAN', 2), (b'erreicht', 2), (b'erstmals', 2), (b'50', 2), (b'per', 2), (b'erreichbar', 2), (b'Root-Zertifikat', 2), (b'Haus', 2), (b'vertrauen', 2), (b'HEIST:', 2), (b'Wiederbelebter', 2), (b'Angriff', 2), (b'vorgestellt', 2), (b'Gratis-CA', 2), (b'StartEncrypt', 2), (b'beginnt', 2), (b'Sicherheitsproblemen', 2), (b'F\\xc3\\xbcnf', 2), (b'w\\xc3\\xa4chst', 2), (b'rasant', 2), (b'Apps', 2), (b'Ministerium', 2), (b'digitale', 2), (b'Infrastruktur', 2), (b'pfuscht', 2), (b'eigenen', 2), (b'Web-Server', 2), (b'Kostenlose', 2), (b'Wordpress', 2), (b'77', 2), (b'aller', 2), (b'Google-Anfragen', 2), (b'In', 2), (b'eigener', 2), (b'Sache:', 2), (b'Pilotprojekt', 2), (b'DevTools', 2), (b'helfen', 2), (b'\\xc3\\x9cberpr\\xc3\\xbcfung', 2), (b'des', 2), (b'HTTPS-Status', 2), (b'Audit', 2), (b'Web-Client:', 2), (b'SSL/TLS-Zertifizierungsstelle', 2), (b'Patenttroll:', 2), (b'CryptoPeak', 2), (b'verklagt', 2), (b'HTTPS-Nutzer', 2), (b'wegen', 2), (b'Patentverletzung', 2), (b'Ab', 2), (b'3.', 2), (b'Dezember', 2), (b'Gratis-SSL-Zertifikate', 2), (b'hantiert', 2), (b'falschem', 2), (b'Google-Zertifikat', 2), (b'Erstes', 2), (b'zum', 2), (b'Test', 2), (b'bereit', 2), (b'Denic', 2), (b'Webangebote', 2), (b'Nach', 2), (b'Erpressungsversuch:', 2), (b'Webhoster', 2), (b'1blu', 2), (b'tauscht', 2), (b'tausende', 2), (b'https-fuer-Fortgeschrittene', 2), (b'Washington', 2), (b'Post', 2), (b'Website', 2), (b'Android-Apps:', 2), (b'Passwort-Schlamperei', 2), (b'verbreitet', 2), (b'Reddit', 2), (b'Bing', 2), (b'Wikipedia', 2), (b'schaltet', 2), (b'Verbindung', 2), (b'pusht', 2), (b'Explorer', 2), (b'Edge-Webbrowser', 2), (b'HTTP-Verbindungen', 2), (b'aufs', 2), (b'Abstellgleis', 2), (b'schicken', 2), (b'USA:', 2), (b'Regierungs-Webseiten', 2), (b'm\\xc3\\xbcssen', 2), (b'umstellen', 2), (b'Meilenstein', 2), (b'kostenlosen', 2), (b'Barracuda', 2), (b'Filter', 2), (b'untergr\\xc3\\xa4bt', 2), (b'Sicherheit', 2), (b'SSL-Verbindungen', 2), (b'ausrangieren', 2), (b'Netflix:', 2), (b'Videos', 2), (b'neutrale', 2), (b'Netze', 2), (b'Abgelaufenes', 2), (b'SSL-Zertifikat', 2), (b'Visa', 2), (b'Freak', 2), (b'Attack:', 2), (b'angreifbar', 2), (b'Sicherheits-Tool', 2), (b'PrivDog', 2), (b'telefoniert', 2), (b'Hause', 2), (b'unverschl\\xc3\\xbcsselt', 2), (b'schickt', 2), (b'Botnetze', 2), (b'Schwachstellensuche', 2), (b'Paypal-Phisher', 2), (b'missbrauchen', 2), (b'kostenlose', 2), (b'Cloudflare', 2), (b'Security-Funktion', 2), (b'HSTS', 2), (b'Supercookie', 2), (b'Chromium-Team', 2), (b'markieren', 2), (b'Meta-Hack', 2), (b'st\\xc3\\xb6rt', 2), (b'hunderte', 2), (b'Medien-Webseiten', 2), (b'Klartext', 2), (b'verschwinden', 2), (b'Download-Sicherheit:', 2), (b'Blackberry', 2), (b'App-Store', 2), (b'nachbessern', 2), (b'falsche', 2), (b'verbessert', 2), (b'Google-Ranking', 2), (b'zuk\\xc3\\xbcnftig', 2), (b'zentralen', 2), (b'Sperrlisten', 2), (b'entschlackt', 2), (b'Zertifikats-\\xc3\\x9cberpr\\xc3\\xbcfung', 2), (b'Heartbleed', 2), (b'Sperrproblem', 2), (b'Mail', 2), (b'aktiviert', 2), (b'NSA-Aff\\xc3\\xa4re', 2), (b'Internet-Konzerne:', 2), (b'\"Den', 2), (b'Unternehmen', 2), (b'Datenschutz', 2), (b'egal\"', 2), (b'Wen', 2), (b'interessiert', 2), (b'schon', 2), (b'Nutzer?', 2), (b'NSA-Aff\\xc3\\xa4re:', 2), (b'US-amerikanische', 2), (b'IT-Unternehmen', 2), (b'zunehmend', 2), (b'IETF:', 2), (b'Streit', 2), (b'sicheres', 2), (b'neu', 2), (b'entbrannt', 2), (b'Yahoo:', 2), (b'Anfang', 2), (b'2014', 2), (b'Standard', 2), (b'Web:', 2), (b'sicherer', 2), (b'werden', 2), (b'lost+found:', 2), (b'Was', 2), (b'Woche', 2), (b'\\xc3\\xbcbrig', 2), (b'blieb', 2), (b'Facebook:', 2), (b'nun', 2), (b'Vorsicht', 2), (b'Skypen', 2), (b'liest', 2), (b'Fotoklau', 2), (b'Spion-Funktion:', 2), (b'Hintert\\xc3\\xbcr', 2), (b'vernetzten', 2), (b'Kameras', 2), (b'Nokia:', 2), (b'Ja,', 2), (b'aber', 2), (b'spitzeln', 2), (b'zieht', 2), (b'k\\xc3\\xb6nnen', 2), (b'aktivieren', 2), (b'Panne', 2), (b'Zertifikatsherausgeber', 2), (b'T\\xc3\\xbcrktrust', 2), (b'29C3:', 2), (b'\"Das', 2), (b'SSL-System', 2), (b'grundlegend', 2), (b'defekt', 2), (b'jemand', 2), (b'reparieren\"', 2), (b'Strict', 2), (b'Transport', 2), (b'Security', 2), (b'Internet-Standard', 2), (b'Facebook', 2), (b'HTTPS-Lauschern', 2), (b'schwerer', 2), (b'unterst\\xc3\\xbctzt', 2), (b'Websites', 2), (b'kaum', 2), (b'ausnutzbar', 2), (b'Nginx', 2), (b'stabiler', 2), (b'1.2.0', 2), (b'g\\xc3\\xbcltigen', 2), (b'fordert', 2), (b'sch\\xc3\\xa4rfere', 2), (b'Kontrollen', 2), (b'Sub-CAs', 2), (b'standardm\\xc3\\xa4\\xc3\\x9fig', 2), (b'Windows-Webserver', 2), (b'Javascript,', 2), (b'IPv6', 2), (b'Trustwave', 2), (b'verkaufte', 2), (b'Man-in-the-Middle-Zertifikat', 2), (b'Online-Zertifikats-Check', 2), (b'abschaffen', 2), (b'Neues', 2), (b'Tool:', 2), (b'Webcheck', 2), (b'EU-Beh\\xc3\\xb6rde', 2), (b'IT-Sicherheit', 2), (b'kritisiert', 2), (b'Zertifizierungsstellen', 2), (b'Google-Forscher', 2), (b'schlagen', 2), (b'Ausweg', 2), (b'SSL-Dilemma', 2), (b'Frist', 2), (b'um:', 2), (b'Facebook-Apps', 2), (b'OAuth', 2), (b'Tool', 2), (b'SSL-Cookies', 2), (b'zehn', 2), (b'Minuten', 2), (b'knacken', 2), (b'CA-Hack:', 2), (b'Auch', 2), (b'Anonymisierungs-Projekt', 2), (b'TOR', 2), (b'Visier', 2), (b'ausgebaut', 2), (b'Schluss', 2), (b'unsicheren', 2), (b'Inhalten', 2), (b'sicheren', 2), (b'Seiten', 2), (b'Der', 2), (b'\"ehrliche', 2), (b'Achmed\"', 2), (b'bittet', 2), (b'Zwei', 2), (b'weitere', 2), (b'Comodo-SSL-Registrare', 2), (b'gehackt', 2), (b'Safari-Anwender', 2), (b'durch', 2), (b'kompromittierte', 2), (b'gef\\xc3\\xa4hrdet', 2), (b'vollst\\xc3\\xa4ndig', 2), (b'Facebooks', 2), (b'kruder', 2), (b'https-Workaround', 2), (b'Verschl\\xc3\\xbcsselung!', 2), (b'Firefox-Erweiterung', 2), (b'klaut', 2), (b'Sitzungen', 2), (b'Facebook,', 2), (b'Co.', 2), (b'Automatische', 2), (b'Webverschl\\xc3\\xbcsselung', 2), (b'(fast)', 2), (b'\\xc3\\xbcberall', 2), (b'betrifft', 2), (b'g\\xc3\\xa4ngigen', 2), (b'Browser', 2), (b'Sicherheits-Appliance', 2), (b'Verschl\\xc3\\xbcsselter', 2), (b'Dateitransfer', 2), (b'Windows', 2), (b'Updates', 2), (b'InstallShield', 2), (b'Update', 2), (b'Agent', 2), (b'Anmeldeprobleme', 2), (b'NoScript', 2)]\n",
            "[b'HTTPS', b'in', b'und']\n"
          ],
          "name": "stdout"
        }
      ]
    },
    {
      "cell_type": "code",
      "metadata": {
        "id": "8XkeyJMYtiry",
        "colab_type": "code",
        "colab": {}
      },
      "source": [
        ""
      ],
      "execution_count": 0,
      "outputs": []
    }
  ]
}